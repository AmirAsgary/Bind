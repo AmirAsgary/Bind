{
 "cells": [
  {
   "cell_type": "code",
   "execution_count": 4,
   "id": "27cef3fb",
   "metadata": {},
   "outputs": [],
   "source": [
    "from src import utils\n",
    "import numpy as np\n",
    "import pandas as pd\n",
    "import dill\n",
    "from importlib import reload"
   ]
  },
  {
   "cell_type": "code",
   "execution_count": null,
   "id": "5a1fd566",
   "metadata": {},
   "outputs": [
    {
     "name": "stdout",
     "output_type": "stream",
     "text": [
      "#### 1- Extract for id AF-P11388-F1-model_v4\n",
      "PDB State AF-P11388-F1-model_v4\n",
      "#### 3- Structure cleaned and renumbered AF-P11388-F1-model_v4\n"
     ]
    },
    {
     "name": "stderr",
     "output_type": "stream",
     "text": [
      "sphere_mange_arete: inconcistence\n"
     ]
    },
    {
     "name": "stdout",
     "output_type": "stream",
     "text": [
      "Append time: 4.76837158203125e-07 Iter time: 0.537541389465332 Before centroid calc: 0.5374197959899902 SASA time: 4.0531158447265625e-06\n"
     ]
    }
   ],
   "source": [
    "reload(utils)\n",
    "df = utils.Extract_and_Save_from_PDB(input_file='/scratch-scc/users/u14286/piplines/Bind/data/large/alphafold_db/test_data/AF-P11388-F1-model_v4.pdb',\n",
    "                                 from_dill=False,\n",
    "                                saving_dir='tmp/', k_nearest=5, inteacting_residues=False,\n",
    "                              un_dn=False, outtype='dill', save_file=False)\n",
    "\n",
    "print(df)"
   ]
  },
  {
   "cell_type": "code",
   "execution_count": 2,
   "id": "06c1f4e0",
   "metadata": {},
   "outputs": [],
   "source": [
    "from src import utils, constants\n",
    "import numpy as np\n",
    "import pandas as pd\n",
    "import dill\n",
    "with open('/scratch-scc/users/u14286/piplines/Bind/tmp/AF-Q9VT52-F1-model_v4.dill', 'rb') as f:\n",
    "    data = dill.load(f)"
   ]
  },
  {
   "cell_type": "code",
   "execution_count": null,
   "id": "74c4f600",
   "metadata": {},
   "outputs": [],
   "source": [
    "\n",
    "\n",
    "\n",
    "tfmanager = utils.TFRecordManager(tfrecord_path='tmp/test.tfrecord', feature_dim=86)\n",
    "tfmanager.write_samples(features=arr, labels=labels_arr, ID_arrs=IDs)\n",
    "train_ds = tfmanager.read_dataset()"
   ]
  },
  {
   "cell_type": "code",
   "execution_count": null,
   "id": "1eaab3d1",
   "metadata": {},
   "outputs": [
    {
     "name": "stdout",
     "output_type": "stream",
     "text": [
      "#### 1- Extract for id AF-Q9VT52-F1-model_v4\n",
      "PDB State AF-Q9VT52-F1-model_v4\n",
      "#### 3- Structure cleaned and renumbered AF-Q9VT52-F1-model_v4\n",
      "Append time: 2.384185791015625e-07 Iter time: 0.0010123252868652344 Before centroid calc: 0.0009169578552246094 SASA time: 2.1457672119140625e-06\n",
      "#### 4- pdb to df done AF-Q9VT52-F1-model_v4\n",
      "################SIDE (120, 3)\n"
     ]
    },
    {
     "name": "stderr",
     "output_type": "stream",
     "text": [
      "Exception ignored in: <bound method IPythonKernel._clean_thread_parent_frames of <ipykernel.ipkernel.IPythonKernel object at 0x1552e5471f10>>\n",
      "Traceback (most recent call last):\n",
      "  File \"/user/a.hajialiasgarynaj01/u14286/miniforge3/envs/Bind/lib/python3.11/site-packages/ipykernel/ipkernel.py\", line 781, in _clean_thread_parent_frames\n",
      "    def _clean_thread_parent_frames(\n",
      "\n",
      "KeyboardInterrupt: \n"
     ]
    }
   ],
   "source": [
    "\n",
    "from src import utils\n",
    "import numpy as np\n",
    "import pandas as pd\n",
    "import dill\n",
    "from importlib import reload\n",
    "import time\n",
    "reload(utils)\n",
    "\n",
    "s = time.time()\n",
    "output = utils.Extract_and_Save_from_PDB(input_file='/scratch-scc/users/u14286/piplines/Bind/data/large/alphafold_db/test_data/AF-Q9VT52-F1-model_v4.pdb',\n",
    "                                 from_dill=False,\n",
    "                                saving_dir='tmp/', k_nearest=5, inteacting_residues=False,\n",
    "                              un_dn=False, outtype='tfrecord', save_file=False)\n",
    "\n",
    "print(time.time() - s)\n",
    "features, labels_arr, IDs, columns, plddt_arr = output\n"
   ]
  },
  {
   "cell_type": "code",
   "execution_count": null,
   "id": "48187f65",
   "metadata": {},
   "outputs": [],
   "source": [
    "tfmanager = utils.TFRecordManager(tfrecord_path='tmp/test2.tfrecord', feature_dim=86)\n",
    "tfmanager.write_samples(features=features, labels=labels_arr, ID_arrs=IDs, plddt=plddt_arr)\n",
    "train_ds = tfmanager.read_dataset()"
   ]
  }
 ],
 "metadata": {
  "kernelspec": {
   "display_name": "Bind",
   "language": "python",
   "name": "python3"
  },
  "language_info": {
   "codemirror_mode": {
    "name": "ipython",
    "version": 3
   },
   "file_extension": ".py",
   "mimetype": "text/x-python",
   "name": "python",
   "nbconvert_exporter": "python",
   "pygments_lexer": "ipython3",
   "version": "3.11.13"
  }
 },
 "nbformat": 4,
 "nbformat_minor": 5
}
